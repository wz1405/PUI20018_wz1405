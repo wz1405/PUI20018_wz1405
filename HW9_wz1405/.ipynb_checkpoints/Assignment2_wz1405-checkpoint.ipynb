{
 "cells": [
  {
   "cell_type": "markdown",
   "metadata": {
    "run_control": {
     "frozen": false,
     "read_only": false
    }
   },
   "source": [
    "**exercises with statsmodels OLS and WLS**\n",
    "*created by fbb November 2018*\n"
   ]
  },
  {
   "cell_type": "code",
   "execution_count": 47,
   "metadata": {
    "ExecuteTime": {
     "end_time": "2018-11-08T18:05:35.078740Z",
     "start_time": "2018-11-08T18:05:35.037891Z"
    },
    "run_control": {
     "frozen": false,
     "read_only": false
    }
   },
   "outputs": [
    {
     "name": "stdout",
     "output_type": "stream",
     "text": [
      "Populating the interactive namespace from numpy and matplotlib\n"
     ]
    }
   ],
   "source": [
    "from __future__ import print_function, division\n",
    "import pylab as pl\n",
    "\n",
    "import os\n",
    "import json\n",
    "import pandas as pd\n",
    "import statsmodels.api as sm\n",
    "import statsmodels.formula.api as smf\n",
    "from statsmodels.graphics.api import abline_plot\n",
    "\n",
    "%pylab inline"
   ]
  },
  {
   "cell_type": "code",
   "execution_count": 14,
   "metadata": {},
   "outputs": [
    {
     "ename": "TypeError",
     "evalue": "unsupported operand type(s) for +: 'NoneType' and 'str'",
     "output_type": "error",
     "traceback": [
      "\u001b[0;31m---------------------------------------------------------------------------\u001b[0m",
      "\u001b[0;31mTypeError\u001b[0m                                 Traceback (most recent call last)",
      "\u001b[0;32m<ipython-input-14-a24a25184e2d>\u001b[0m in \u001b[0;36m<module>\u001b[0;34m()\u001b[0m\n\u001b[0;32m----> 1\u001b[0;31m \u001b[0ms\u001b[0m \u001b[0;34m=\u001b[0m \u001b[0mjson\u001b[0m\u001b[0;34m.\u001b[0m\u001b[0mload\u001b[0m\u001b[0;34m(\u001b[0m \u001b[0mopen\u001b[0m\u001b[0;34m(\u001b[0m\u001b[0mos\u001b[0m\u001b[0;34m.\u001b[0m\u001b[0mgetenv\u001b[0m\u001b[0;34m(\u001b[0m\u001b[0;34m'PUI2018'\u001b[0m\u001b[0;34m)\u001b[0m\u001b[0;34m+\u001b[0m\u001b[0;34m\"/fbb_matplotlibrc.json\"\u001b[0m\u001b[0;34m)\u001b[0m \u001b[0;34m)\u001b[0m\u001b[0;34m\u001b[0m\u001b[0m\n\u001b[0m\u001b[1;32m      2\u001b[0m \u001b[0mpl\u001b[0m\u001b[0;34m.\u001b[0m\u001b[0mrcParams\u001b[0m\u001b[0;34m.\u001b[0m\u001b[0mupdate\u001b[0m\u001b[0;34m(\u001b[0m\u001b[0ms\u001b[0m\u001b[0;34m)\u001b[0m\u001b[0;34m\u001b[0m\u001b[0m\n",
      "\u001b[0;31mTypeError\u001b[0m: unsupported operand type(s) for +: 'NoneType' and 'str'"
     ]
    }
   ],
   "source": [
    "s = json.load( open(os.getenv('PUI2018')+\"/fbb_matplotlibrc.json\") )\n",
    "pl.rcParams.update(s)"
   ]
  },
  {
   "cell_type": "code",
   "execution_count": 15,
   "metadata": {
    "ExecuteTime": {
     "end_time": "2018-11-08T18:05:35.950830Z",
     "start_time": "2018-11-08T18:05:35.933414Z"
    },
    "run_control": {
     "frozen": false,
     "read_only": false
    }
   },
   "outputs": [],
   "source": [
    "def errors(x):\n",
    "    return np.sqrt(x)\n",
    "    \n",
    "\n",
    "def line(a, x, b=0, errors=None):\n",
    "    '''\n",
    "    creates a line from parameters and exogenous variable\n",
    "    a: slope\n",
    "    x: exogenous variable\n",
    "    b: intercept - default 0\n",
    "    errors: add uncertainties (sqrt(N) - default True)\n",
    "    '''\n",
    "    np.random.randn(123)\n",
    "    if errors is None:\n",
    "        return a*x + b \n",
    "    else:\n",
    "        return a*x + b + np.random.randn(len(x)) * errors(x)\n",
    "    \n"
   ]
  },
  {
   "cell_type": "code",
   "execution_count": 16,
   "metadata": {},
   "outputs": [],
   "source": [
    "def myregression(x, y, method=None): \n",
    "    if method == None or method == 'O':\n",
    "        rm = sm.OLS(y, x)\n",
    "    elif method == 'W':\n",
    "        rm = sm.WLS(y, x)\n",
    "    else:\n",
    "        print (\"Problem in the way you called myregression\")\n",
    "        return -1\n",
    "            \n",
    "    reg = rm.fit()\n",
    "    print (\"linear regression slope {}\".format(reg.summary()))\n",
    "    return reg"
   ]
  },
  {
   "cell_type": "markdown",
   "metadata": {
    "run_control": {
     "frozen": false,
     "read_only": false
    }
   },
   "source": [
    "# 1. create a line with a chosen slope and intercept = 0 and plot it with uncertainties as errorbars\n",
    "\n",
    "use the functions created above"
   ]
  },
  {
   "cell_type": "code",
   "execution_count": 54,
   "metadata": {},
   "outputs": [],
   "source": [
    "x = np.linspace(0,100,10)\n",
    "y = line(0.7, 0, x)\n",
    "\n",
    "\n",
    "#y = y+np.cos(x/100*2*np.pi*10.0)\n",
    "# y = y + 3e-3 * ((x - 50)**2)"
   ]
  },
  {
   "cell_type": "code",
   "execution_count": 55,
   "metadata": {},
   "outputs": [
    {
     "name": "stdout",
     "output_type": "stream",
     "text": [
      "linear regression slope                             WLS Regression Results                            \n",
      "==============================================================================\n",
      "Dep. Variable:                      y   R-squared:                       0.999\n",
      "Model:                            WLS   Adj. R-squared:                  0.999\n",
      "Method:                 Least Squares   F-statistic:                     8600.\n",
      "Date:                Wed, 14 Nov 2018   Prob (F-statistic):           1.00e-14\n",
      "Time:                        14:54:45   Log-Likelihood:                -25.675\n",
      "No. Observations:                  10   AIC:                             53.35\n",
      "Df Residuals:                       9   BIC:                             53.65\n",
      "Df Model:                           1                                         \n",
      "Covariance Type:            nonrobust                                         \n",
      "==============================================================================\n",
      "                 coef    std err          t      P>|t|      [95.0% Conf. Int.]\n",
      "------------------------------------------------------------------------------\n",
      "x1             1.6434      0.018     92.734      0.000         1.603     1.684\n",
      "==============================================================================\n",
      "Omnibus:                        2.666   Durbin-Watson:                   0.352\n",
      "Prob(Omnibus):                  0.264   Jarque-Bera (JB):                1.317\n",
      "Skew:                           0.879   Prob(JB):                        0.518\n",
      "Kurtosis:                       2.737   Cond. No.                         1.00\n",
      "==============================================================================\n",
      "\n",
      "Warnings:\n",
      "[1] Standard Errors assume that the covariance matrix of the errors is correctly specified.\n",
      "linear regression slope                             OLS Regression Results                            \n",
      "==============================================================================\n",
      "Dep. Variable:                      y   R-squared:                       0.999\n",
      "Model:                            OLS   Adj. R-squared:                  0.999\n",
      "Method:                 Least Squares   F-statistic:                     8600.\n",
      "Date:                Wed, 14 Nov 2018   Prob (F-statistic):           1.00e-14\n",
      "Time:                        14:54:45   Log-Likelihood:                -25.675\n",
      "No. Observations:                  10   AIC:                             53.35\n",
      "Df Residuals:                       9   BIC:                             53.65\n",
      "Df Model:                           1                                         \n",
      "Covariance Type:            nonrobust                                         \n",
      "==============================================================================\n",
      "                 coef    std err          t      P>|t|      [95.0% Conf. Int.]\n",
      "------------------------------------------------------------------------------\n",
      "x1             1.6434      0.018     92.734      0.000         1.603     1.684\n",
      "==============================================================================\n",
      "Omnibus:                        2.666   Durbin-Watson:                   0.352\n",
      "Prob(Omnibus):                  0.264   Jarque-Bera (JB):                1.317\n",
      "Skew:                           0.879   Prob(JB):                        0.518\n",
      "Kurtosis:                       2.737   Cond. No.                         1.00\n",
      "==============================================================================\n",
      "\n",
      "Warnings:\n",
      "[1] Standard Errors assume that the covariance matrix of the errors is correctly specified.\n"
     ]
    },
    {
     "name": "stderr",
     "output_type": "stream",
     "text": [
      "/usr/local/Anaconda3-5.0.0-Linux-x86_64/envs/PUI2016_Python3/lib/python3.5/site-packages/scipy/stats/stats.py:1535: UserWarning: kurtosistest only valid for n>=20 ... continuing anyway, n=10\n",
      "  \"anyway, n=%i\" % int(n))\n"
     ]
    },
    {
     "data": {
      "text/plain": [
       "<matplotlib.legend.Legend at 0x7f445c02b978>"
      ]
     },
     "execution_count": 55,
     "metadata": {},
     "output_type": "execute_result"
    },
    {
     "data": {
      "image/png": "[encoded data removed]",
      "text/plain": [
       "<matplotlib.figure.Figure at 0x7f445c134eb8>"
      ]
     },
     "metadata": {},
     "output_type": "display_data"
    }
   ],
   "source": [
    "#y = y+np.cos(x/100*2*np.pi*10.0)\n",
    "y = y + 3e-3 * ((x + 50)**2)\n",
    "xnew = np.linspace(0,100,10)\n",
    "mrnewW = myregression(x, y, method='W')\n",
    "mrnewO = myregression(x, y, method='O')\n",
    "e = errors(x)\n",
    "\n",
    "#now i fit the data taking into account the errorbars: \n",
    "#u ise WLS (weighted square fit) \n",
    "#instead of OLS (ordinary square fit)\n",
    "\n",
    "fig = pl.figure(figsize=(10,10))\n",
    "ax = fig.add_subplot(221)\n",
    "\n",
    "\n",
    "ax.errorbar(x, y, yerr=e, fmt='.', label = \"the Error Bar\")\n",
    "# ax.plot(xnew, mrnew.predict(xnew), 'k', alpha=0.4,\n",
    "#        label = \"fit to line only\")\n",
    "# ax.plot(xnew, mrnew.predict(xnew), 'k', alpha=0.7,\n",
    "#        label = \"fit to line and noise\")\n",
    "\n",
    "ax.set_xlabel('independent variable')\n",
    "ax.set_ylabel('dependent variable')\n",
    "ax.legend()\n",
    "\n",
    "# ax = fig.add_subplot(222)\n",
    "# ax.errorbar(x, y, yerr=e, fmt='.', label = \"and some structure\")\n",
    "# # ax.plot(xnew, mrnew.predict(xnew), 'k', alpha=0.7,      \n",
    "# #        label = \"fit to line and noise\")\n",
    "\n",
    "# # ax.plot(xnew, mrnew.predict(xnew), 'r', alpha=0.5,\n",
    "# #        label = \"fit to noisy curve\")\n",
    "\n",
    "# ax.set_xlabel('independent variable')\n",
    "# ax.set_ylabel('dependent variable')\n",
    "# ax.legend()\n"
   ]
  },
  {
   "cell_type": "code",
   "execution_count": null,
   "metadata": {
    "ExecuteTime": {
     "end_time": "2018-11-08T18:05:47.132879Z",
     "start_time": "2018-11-08T18:05:46.952667Z"
    },
    "run_control": {
     "frozen": false,
     "read_only": false
    }
   },
   "outputs": [],
   "source": []
  },
  {
   "cell_type": "markdown",
   "metadata": {
    "run_control": {
     "frozen": false,
     "read_only": false
    }
   },
   "source": [
    "# 2. print y, x, and the result of applying statsmodels.api.add_constant() to x"
   ]
  },
  {
   "cell_type": "code",
   "execution_count": 56,
   "metadata": {},
   "outputs": [
    {
     "data": {
      "text/plain": [
       "array([   7.5       ,   22.31481481,   37.87037037,   54.16666667,\n",
       "         71.2037037 ,   88.98148148,  107.5       ,  126.75925926,\n",
       "        146.75925926,  167.5       ])"
      ]
     },
     "execution_count": 56,
     "metadata": {},
     "output_type": "execute_result"
    }
   ],
   "source": [
    "y"
   ]
  },
  {
   "cell_type": "code",
   "execution_count": 57,
   "metadata": {},
   "outputs": [
    {
     "data": {
      "text/plain": [
       "array([   0.        ,   11.11111111,   22.22222222,   33.33333333,\n",
       "         44.44444444,   55.55555556,   66.66666667,   77.77777778,\n",
       "         88.88888889,  100.        ])"
      ]
     },
     "execution_count": 57,
     "metadata": {},
     "output_type": "execute_result"
    }
   ],
   "source": [
    "x"
   ]
  },
  {
   "cell_type": "code",
   "execution_count": 58,
   "metadata": {},
   "outputs": [],
   "source": [
    "# Ref: https://www.statsmodels.org/dev/generated/statsmodels.tools.tools.add_constant.html\n",
    "\n",
    "x_1 = sm.add_constant(y, prepend=True, has_constant='skip')\n",
    "\n",
    "\n"
   ]
  },
  {
   "cell_type": "code",
   "execution_count": 59,
   "metadata": {},
   "outputs": [
    {
     "data": {
      "text/plain": [
       "array([[   1.        ,    7.5       ],\n",
       "       [   1.        ,   22.31481481],\n",
       "       [   1.        ,   37.87037037],\n",
       "       [   1.        ,   54.16666667],\n",
       "       [   1.        ,   71.2037037 ],\n",
       "       [   1.        ,   88.98148148],\n",
       "       [   1.        ,  107.5       ],\n",
       "       [   1.        ,  126.75925926],\n",
       "       [   1.        ,  146.75925926],\n",
       "       [   1.        ,  167.5       ]])"
      ]
     },
     "execution_count": 59,
     "metadata": {},
     "output_type": "execute_result"
    }
   ],
   "source": [
    "x_1"
   ]
  },
  {
   "cell_type": "markdown",
   "metadata": {
    "run_control": {
     "frozen": false,
     "read_only": false
    }
   },
   "source": [
    "# 3. use statsmodels.api.OLS to fit x and y \n",
    "- *the wrong way*: by passing x as exogenous variable\n",
    "- *the right way*: by passing statsmodels.api.add_constant(x) as exogenous variable\n",
    "\n",
    "print the model summary for each and discuss the differences"
   ]
  },
  {
   "cell_type": "code",
   "execution_count": 60,
   "metadata": {},
   "outputs": [
    {
     "name": "stderr",
     "output_type": "stream",
     "text": [
      "/usr/local/Anaconda3-5.0.0-Linux-x86_64/envs/PUI2016_Python3/lib/python3.5/site-packages/scipy/stats/stats.py:1535: UserWarning: kurtosistest only valid for n>=20 ... continuing anyway, n=10\n",
      "  \"anyway, n=%i\" % int(n))\n"
     ]
    },
    {
     "data": {
      "text/html": [
       "<table class=\"simpletable\">\n",
       "<caption>OLS Regression Results</caption>\n",
       "<tr>\n",
       "  <th>Dep. Variable:</th>            <td>y</td>        <th>  R-squared:         </th> <td>   0.997</td>\n",
       "</tr>\n",
       "<tr>\n",
       "  <th>Model:</th>                   <td>OLS</td>       <th>  Adj. R-squared:    </th> <td>   0.997</td>\n",
       "</tr>\n",
       "<tr>\n",
       "  <th>Method:</th>             <td>Least Squares</td>  <th>  F-statistic:       </th> <td>   2880.</td>\n",
       "</tr>\n",
       "<tr>\n",
       "  <th>Date:</th>             <td>Wed, 14 Nov 2018</td> <th>  Prob (F-statistic):</th> <td>1.61e-11</td>\n",
       "</tr>\n",
       "<tr>\n",
       "  <th>Time:</th>                 <td>14:54:46</td>     <th>  Log-Likelihood:    </th> <td> -24.089</td>\n",
       "</tr>\n",
       "<tr>\n",
       "  <th>No. Observations:</th>      <td>    10</td>      <th>  AIC:               </th> <td>   52.18</td>\n",
       "</tr>\n",
       "<tr>\n",
       "  <th>Df Residuals:</th>          <td>     8</td>      <th>  BIC:               </th> <td>   52.78</td>\n",
       "</tr>\n",
       "<tr>\n",
       "  <th>Df Model:</th>              <td>     1</td>      <th>                     </th>     <td> </td>   \n",
       "</tr>\n",
       "<tr>\n",
       "  <th>Covariance Type:</th>      <td>nonrobust</td>    <th>                     </th>     <td> </td>   \n",
       "</tr>\n",
       "</table>\n",
       "<table class=\"simpletable\">\n",
       "<tr>\n",
       "    <td></td>       <th>coef</th>     <th>std err</th>      <th>t</th>      <th>P>|t|</th> <th>[95.0% Conf. Int.]</th> \n",
       "</tr>\n",
       "<tr>\n",
       "  <th>const</th> <td>    3.0556</td> <td>    1.768</td> <td>    1.728</td> <td> 0.122</td> <td>   -1.023     7.134</td>\n",
       "</tr>\n",
       "<tr>\n",
       "  <th>x1</th>    <td>    1.6000</td> <td>    0.030</td> <td>   53.666</td> <td> 0.000</td> <td>    1.531     1.669</td>\n",
       "</tr>\n",
       "</table>\n",
       "<table class=\"simpletable\">\n",
       "<tr>\n",
       "  <th>Omnibus:</th>       <td> 1.498</td> <th>  Durbin-Watson:     </th> <td>   0.455</td>\n",
       "</tr>\n",
       "<tr>\n",
       "  <th>Prob(Omnibus):</th> <td> 0.473</td> <th>  Jarque-Bera (JB):  </th> <td>   1.015</td>\n",
       "</tr>\n",
       "<tr>\n",
       "  <th>Skew:</th>          <td> 0.550</td> <th>  Prob(JB):          </th> <td>   0.602</td>\n",
       "</tr>\n",
       "<tr>\n",
       "  <th>Kurtosis:</th>      <td> 1.894</td> <th>  Cond. No.          </th> <td>    110.</td>\n",
       "</tr>\n",
       "</table>"
      ],
      "text/plain": [
       "<class 'statsmodels.iolib.summary.Summary'>\n",
       "\"\"\"\n",
       "                            OLS Regression Results                            \n",
       "==============================================================================\n",
       "Dep. Variable:                      y   R-squared:                       0.997\n",
       "Model:                            OLS   Adj. R-squared:                  0.997\n",
       "Method:                 Least Squares   F-statistic:                     2880.\n",
       "Date:                Wed, 14 Nov 2018   Prob (F-statistic):           1.61e-11\n",
       "Time:                        14:54:46   Log-Likelihood:                -24.089\n",
       "No. Observations:                  10   AIC:                             52.18\n",
       "Df Residuals:                       8   BIC:                             52.78\n",
       "Df Model:                           1                                         \n",
       "Covariance Type:            nonrobust                                         \n",
       "==============================================================================\n",
       "                 coef    std err          t      P>|t|      [95.0% Conf. Int.]\n",
       "------------------------------------------------------------------------------\n",
       "const          3.0556      1.768      1.728      0.122        -1.023     7.134\n",
       "x1             1.6000      0.030     53.666      0.000         1.531     1.669\n",
       "==============================================================================\n",
       "Omnibus:                        1.498   Durbin-Watson:                   0.455\n",
       "Prob(Omnibus):                  0.473   Jarque-Bera (JB):                1.015\n",
       "Skew:                           0.550   Prob(JB):                        0.602\n",
       "Kurtosis:                       1.894   Cond. No.                         110.\n",
       "==============================================================================\n",
       "\n",
       "Warnings:\n",
       "[1] Standard Errors assume that the covariance matrix of the errors is correctly specified.\n",
       "\"\"\""
      ]
     },
     "execution_count": 60,
     "metadata": {},
     "output_type": "execute_result"
    }
   ],
   "source": [
    "smfitOLS = smf.OLS(y, sm.add_constant(x)).fit()\n",
    "# smresult = sm.OLS(all_f, sm.add_constant(all_m)).fit()\n",
    "smfitOLS.summary()"
   ]
  },
  {
   "cell_type": "markdown",
   "metadata": {
    "run_control": {
     "frozen": false,
     "read_only": false
    }
   },
   "source": [
    "# 4. plot the data (as points) and both statsmodels fits"
   ]
  },
  {
   "cell_type": "code",
   "execution_count": 61,
   "metadata": {},
   "outputs": [
    {
     "name": "stdout",
     "output_type": "stream",
     "text": [
      "linear regression slope                             WLS Regression Results                            \n",
      "==============================================================================\n",
      "Dep. Variable:                      y   R-squared:                       0.998\n",
      "Model:                            WLS   Adj. R-squared:                  0.998\n",
      "Method:                 Least Squares   F-statistic:                     4163.\n",
      "Date:                Wed, 14 Nov 2018   Prob (F-statistic):           2.60e-13\n",
      "Time:                        14:54:47   Log-Likelihood:                -32.606\n",
      "No. Observations:                  10   AIC:                             67.21\n",
      "Df Residuals:                       9   BIC:                             67.52\n",
      "Df Model:                           1                                         \n",
      "Covariance Type:            nonrobust                                         \n",
      "==============================================================================\n",
      "                 coef    std err          t      P>|t|      [95.0% Conf. Int.]\n",
      "------------------------------------------------------------------------------\n",
      "x1             2.2868      0.035     64.520      0.000         2.207     2.367\n",
      "==============================================================================\n",
      "Omnibus:                        2.666   Durbin-Watson:                   0.352\n",
      "Prob(Omnibus):                  0.264   Jarque-Bera (JB):                1.317\n",
      "Skew:                           0.879   Prob(JB):                        0.518\n",
      "Kurtosis:                       2.737   Cond. No.                         1.00\n",
      "==============================================================================\n",
      "\n",
      "Warnings:\n",
      "[1] Standard Errors assume that the covariance matrix of the errors is correctly specified.\n",
      "linear regression slope                             OLS Regression Results                            \n",
      "==============================================================================\n",
      "Dep. Variable:                      y   R-squared:                       0.998\n",
      "Model:                            OLS   Adj. R-squared:                  0.998\n",
      "Method:                 Least Squares   F-statistic:                     4163.\n",
      "Date:                Wed, 14 Nov 2018   Prob (F-statistic):           2.60e-13\n",
      "Time:                        14:54:47   Log-Likelihood:                -32.606\n",
      "No. Observations:                  10   AIC:                             67.21\n",
      "Df Residuals:                       9   BIC:                             67.52\n",
      "Df Model:                           1                                         \n",
      "Covariance Type:            nonrobust                                         \n",
      "==============================================================================\n",
      "                 coef    std err          t      P>|t|      [95.0% Conf. Int.]\n",
      "------------------------------------------------------------------------------\n",
      "x1             2.2868      0.035     64.520      0.000         2.207     2.367\n",
      "==============================================================================\n",
      "Omnibus:                        2.666   Durbin-Watson:                   0.352\n",
      "Prob(Omnibus):                  0.264   Jarque-Bera (JB):                1.317\n",
      "Skew:                           0.879   Prob(JB):                        0.518\n",
      "Kurtosis:                       2.737   Cond. No.                         1.00\n",
      "==============================================================================\n",
      "\n",
      "Warnings:\n",
      "[1] Standard Errors assume that the covariance matrix of the errors is correctly specified.\n"
     ]
    },
    {
     "name": "stderr",
     "output_type": "stream",
     "text": [
      "/usr/local/Anaconda3-5.0.0-Linux-x86_64/envs/PUI2016_Python3/lib/python3.5/site-packages/scipy/stats/stats.py:1535: UserWarning: kurtosistest only valid for n>=20 ... continuing anyway, n=10\n",
      "  \"anyway, n=%i\" % int(n))\n"
     ]
    },
    {
     "data": {
      "text/plain": [
       "<matplotlib.legend.Legend at 0x7f445bfabcf8>"
      ]
     },
     "execution_count": 61,
     "metadata": {},
     "output_type": "execute_result"
    },
    {
     "data": {
      "image/png": "[encoded data removed]",
      "text/plain": [
       "<matplotlib.figure.Figure at 0x7f445c871b00>"
      ]
     },
     "metadata": {},
     "output_type": "display_data"
    }
   ],
   "source": [
    "#y = y+np.cos(x/100*2*np.pi*10.0)\n",
    "y = y + 3e-3 * ((x + 50)**2)\n",
    "xnew = np.linspace(0,100,10)\n",
    "mrnewW = myregression(x, y, method='W')\n",
    "mrnewO = myregression(x, y, method='O')\n",
    "e = errors(x)\n",
    "\n",
    "fig = pl.figure(figsize=(10,10))\n",
    "ax = fig.add_subplot(221)\n",
    "\n",
    "\n",
    "ax.errorbar(x, y, yerr=e, fmt='.', label = \"the Error Bar\")\n",
    "ax.plot(xnew, mrnewW.predict(xnew), 'k', alpha=0.4,\n",
    "       label = \"fit to line only\")\n",
    "ax.plot(xnew, mrnewO.predict(xnew), 'k', alpha=0.7,\n",
    "       label = \"fit to line and noise\")\n",
    "\n",
    "ax.set_xlabel('independent variable')\n",
    "ax.set_ylabel('dependent variable')\n",
    "ax.legend()\n",
    "\n",
    "ax = fig.add_subplot(222)\n",
    "ax.errorbar(x, y, yerr=e, fmt='.', label = \"the Error Bar\")\n",
    "ax.plot(xnew, mrnewW.predict(xnew), 'k', alpha=0.7,      \n",
    "       label = \"fit to line and noise\")\n",
    "\n",
    "ax.plot(xnew, mrnewO.predict(xnew), 'r', alpha=0.5,\n",
    "       label = \"fit to noisy curve\")\n",
    "\n",
    "ax.set_xlabel('independent variable')\n",
    "ax.set_ylabel('dependent variable')\n",
    "ax.legend()\n"
   ]
  },
  {
   "cell_type": "markdown",
   "metadata": {
    "run_control": {
     "frozen": false,
     "read_only": false
    }
   },
   "source": [
    "# create a line with a chosen slope and a chosen intercept >=100*slope and plot it with uncertainties as errorbars"
   ]
  },
  {
   "cell_type": "code",
   "execution_count": 62,
   "metadata": {},
   "outputs": [],
   "source": [
    "x5 = np.linspace(0,100,10)\n",
    "slope5 = 1.5\n",
    "intercept5 = 101.0 * slope5\n",
    "y5 = intercept5 + slope5 * x5\n",
    "yerr5 = errors(x5)"
   ]
  },
  {
   "cell_type": "code",
   "execution_count": 63,
   "metadata": {},
   "outputs": [
    {
     "data": {
      "text/plain": [
       "array([   0.        ,   11.11111111,   22.22222222,   33.33333333,\n",
       "         44.44444444,   55.55555556,   66.66666667,   77.77777778,\n",
       "         88.88888889,  100.        ])"
      ]
     },
     "execution_count": 63,
     "metadata": {},
     "output_type": "execute_result"
    }
   ],
   "source": [
    "x5"
   ]
  },
  {
   "cell_type": "code",
   "execution_count": 64,
   "metadata": {},
   "outputs": [
    {
     "data": {
      "text/plain": [
       "array([ 151.5       ,  168.16666667,  184.83333333,  201.5       ,\n",
       "        218.16666667,  234.83333333,  251.5       ,  268.16666667,\n",
       "        284.83333333,  301.5       ])"
      ]
     },
     "execution_count": 64,
     "metadata": {},
     "output_type": "execute_result"
    }
   ],
   "source": [
    "y5"
   ]
  },
  {
   "cell_type": "code",
   "execution_count": 65,
   "metadata": {},
   "outputs": [
    {
     "data": {
      "text/plain": [
       "<Container object of 3 artists>"
      ]
     },
     "execution_count": 65,
     "metadata": {},
     "output_type": "execute_result"
    },
    {
     "data": {
      "image/png": "[encoded data removed]",
      "text/plain": [
       "<matplotlib.figure.Figure at 0x7f448c404a90>"
      ]
     },
     "metadata": {},
     "output_type": "display_data"
    }
   ],
   "source": [
    "plt.plot(x5,y5)\n",
    "plt.errorbar(x5, y5, yerr=errors(x5))"
   ]
  },
  {
   "cell_type": "markdown",
   "metadata": {
    "run_control": {
     "frozen": false,
     "read_only": false
    }
   },
   "source": [
    "# repeat step 3"
   ]
  },
  {
   "cell_type": "code",
   "execution_count": 66,
   "metadata": {},
   "outputs": [
    {
     "name": "stderr",
     "output_type": "stream",
     "text": [
      "/usr/local/Anaconda3-5.0.0-Linux-x86_64/envs/PUI2016_Python3/lib/python3.5/site-packages/scipy/stats/stats.py:1535: UserWarning: kurtosistest only valid for n>=20 ... continuing anyway, n=10\n",
      "  \"anyway, n=%i\" % int(n))\n"
     ]
    },
    {
     "data": {
      "text/html": [
       "<table class=\"simpletable\">\n",
       "<caption>OLS Regression Results</caption>\n",
       "<tr>\n",
       "  <th>Dep. Variable:</th>            <td>y</td>        <th>  R-squared:         </th> <td>   1.000</td> \n",
       "</tr>\n",
       "<tr>\n",
       "  <th>Model:</th>                   <td>OLS</td>       <th>  Adj. R-squared:    </th> <td>   1.000</td> \n",
       "</tr>\n",
       "<tr>\n",
       "  <th>Method:</th>             <td>Least Squares</td>  <th>  F-statistic:       </th> <td>2.270e+31</td>\n",
       "</tr>\n",
       "<tr>\n",
       "  <th>Date:</th>             <td>Wed, 14 Nov 2018</td> <th>  Prob (F-statistic):</th> <td>4.22e-123</td>\n",
       "</tr>\n",
       "<tr>\n",
       "  <th>Time:</th>                 <td>14:54:50</td>     <th>  Log-Likelihood:    </th> <td>  297.73</td> \n",
       "</tr>\n",
       "<tr>\n",
       "  <th>No. Observations:</th>      <td>    10</td>      <th>  AIC:               </th> <td>  -591.5</td> \n",
       "</tr>\n",
       "<tr>\n",
       "  <th>Df Residuals:</th>          <td>     8</td>      <th>  BIC:               </th> <td>  -590.8</td> \n",
       "</tr>\n",
       "<tr>\n",
       "  <th>Df Model:</th>              <td>     1</td>      <th>                     </th>     <td> </td>    \n",
       "</tr>\n",
       "<tr>\n",
       "  <th>Covariance Type:</th>      <td>nonrobust</td>    <th>                     </th>     <td> </td>    \n",
       "</tr>\n",
       "</table>\n",
       "<table class=\"simpletable\">\n",
       "<tr>\n",
       "    <td></td>       <th>coef</th>     <th>std err</th>      <th>t</th>      <th>P>|t|</th> <th>[95.0% Conf. Int.]</th> \n",
       "</tr>\n",
       "<tr>\n",
       "  <th>const</th> <td>  151.5000</td> <td> 1.87e-14</td> <td> 8.11e+15</td> <td> 0.000</td> <td>  151.500   151.500</td>\n",
       "</tr>\n",
       "<tr>\n",
       "  <th>x1</th>    <td>    1.5000</td> <td> 3.15e-16</td> <td> 4.76e+15</td> <td> 0.000</td> <td>    1.500     1.500</td>\n",
       "</tr>\n",
       "</table>\n",
       "<table class=\"simpletable\">\n",
       "<tr>\n",
       "  <th>Omnibus:</th>       <td> 2.321</td> <th>  Durbin-Watson:     </th> <td>   1.200</td>\n",
       "</tr>\n",
       "<tr>\n",
       "  <th>Prob(Omnibus):</th> <td> 0.313</td> <th>  Jarque-Bera (JB):  </th> <td>   1.541</td>\n",
       "</tr>\n",
       "<tr>\n",
       "  <th>Skew:</th>          <td>-0.844</td> <th>  Prob(JB):          </th> <td>   0.463</td>\n",
       "</tr>\n",
       "<tr>\n",
       "  <th>Kurtosis:</th>      <td> 2.078</td> <th>  Cond. No.          </th> <td>    110.</td>\n",
       "</tr>\n",
       "</table>"
      ],
      "text/plain": [
       "<class 'statsmodels.iolib.summary.Summary'>\n",
       "\"\"\"\n",
       "                            OLS Regression Results                            \n",
       "==============================================================================\n",
       "Dep. Variable:                      y   R-squared:                       1.000\n",
       "Model:                            OLS   Adj. R-squared:                  1.000\n",
       "Method:                 Least Squares   F-statistic:                 2.270e+31\n",
       "Date:                Wed, 14 Nov 2018   Prob (F-statistic):          4.22e-123\n",
       "Time:                        14:54:50   Log-Likelihood:                 297.73\n",
       "No. Observations:                  10   AIC:                            -591.5\n",
       "Df Residuals:                       8   BIC:                            -590.8\n",
       "Df Model:                           1                                         \n",
       "Covariance Type:            nonrobust                                         \n",
       "==============================================================================\n",
       "                 coef    std err          t      P>|t|      [95.0% Conf. Int.]\n",
       "------------------------------------------------------------------------------\n",
       "const        151.5000   1.87e-14   8.11e+15      0.000       151.500   151.500\n",
       "x1             1.5000   3.15e-16   4.76e+15      0.000         1.500     1.500\n",
       "==============================================================================\n",
       "Omnibus:                        2.321   Durbin-Watson:                   1.200\n",
       "Prob(Omnibus):                  0.313   Jarque-Bera (JB):                1.541\n",
       "Skew:                          -0.844   Prob(JB):                        0.463\n",
       "Kurtosis:                       2.078   Cond. No.                         110.\n",
       "==============================================================================\n",
       "\n",
       "Warnings:\n",
       "[1] Standard Errors assume that the covariance matrix of the errors is correctly specified.\n",
       "\"\"\""
      ]
     },
     "execution_count": 66,
     "metadata": {},
     "output_type": "execute_result"
    }
   ],
   "source": [
    "smfitOLS6 = smf.OLS(y5, sm.add_constant(x5)).fit()\n",
    "# smresult = sm.OLS(all_f, sm.add_constant(all_m)).fit()\n",
    "smfitOLS6.summary()"
   ]
  },
  {
   "cell_type": "markdown",
   "metadata": {
    "run_control": {
     "frozen": false,
     "read_only": false
    }
   },
   "source": [
    "# repeat step 4"
   ]
  },
  {
   "cell_type": "code",
   "execution_count": 67,
   "metadata": {},
   "outputs": [
    {
     "name": "stdout",
     "output_type": "stream",
     "text": [
      "linear regression slope                             WLS Regression Results                            \n",
      "==============================================================================\n",
      "Dep. Variable:                      y   R-squared:                       0.998\n",
      "Model:                            WLS   Adj. R-squared:                  0.998\n",
      "Method:                 Least Squares   F-statistic:                     4163.\n",
      "Date:                Wed, 14 Nov 2018   Prob (F-statistic):           2.60e-13\n",
      "Time:                        14:54:51   Log-Likelihood:                -32.606\n",
      "No. Observations:                  10   AIC:                             67.21\n",
      "Df Residuals:                       9   BIC:                             67.52\n",
      "Df Model:                           1                                         \n",
      "Covariance Type:            nonrobust                                         \n",
      "==============================================================================\n",
      "                 coef    std err          t      P>|t|      [95.0% Conf. Int.]\n",
      "------------------------------------------------------------------------------\n",
      "x1             2.2868      0.035     64.520      0.000         2.207     2.367\n",
      "==============================================================================\n",
      "Omnibus:                        2.666   Durbin-Watson:                   0.352\n",
      "Prob(Omnibus):                  0.264   Jarque-Bera (JB):                1.317\n",
      "Skew:                           0.879   Prob(JB):                        0.518\n",
      "Kurtosis:                       2.737   Cond. No.                         1.00\n",
      "==============================================================================\n",
      "\n",
      "Warnings:\n",
      "[1] Standard Errors assume that the covariance matrix of the errors is correctly specified.\n",
      "linear regression slope                             OLS Regression Results                            \n",
      "==============================================================================\n",
      "Dep. Variable:                      y   R-squared:                       0.998\n",
      "Model:                            OLS   Adj. R-squared:                  0.998\n",
      "Method:                 Least Squares   F-statistic:                     4163.\n",
      "Date:                Wed, 14 Nov 2018   Prob (F-statistic):           2.60e-13\n",
      "Time:                        14:54:51   Log-Likelihood:                -32.606\n",
      "No. Observations:                  10   AIC:                             67.21\n",
      "Df Residuals:                       9   BIC:                             67.52\n",
      "Df Model:                           1                                         \n",
      "Covariance Type:            nonrobust                                         \n",
      "==============================================================================\n",
      "                 coef    std err          t      P>|t|      [95.0% Conf. Int.]\n",
      "------------------------------------------------------------------------------\n",
      "x1             2.2868      0.035     64.520      0.000         2.207     2.367\n",
      "==============================================================================\n",
      "Omnibus:                        2.666   Durbin-Watson:                   0.352\n",
      "Prob(Omnibus):                  0.264   Jarque-Bera (JB):                1.317\n",
      "Skew:                           0.879   Prob(JB):                        0.518\n",
      "Kurtosis:                       2.737   Cond. No.                         1.00\n",
      "==============================================================================\n",
      "\n",
      "Warnings:\n",
      "[1] Standard Errors assume that the covariance matrix of the errors is correctly specified.\n"
     ]
    },
    {
     "name": "stderr",
     "output_type": "stream",
     "text": [
      "/usr/local/Anaconda3-5.0.0-Linux-x86_64/envs/PUI2016_Python3/lib/python3.5/site-packages/scipy/stats/stats.py:1535: UserWarning: kurtosistest only valid for n>=20 ... continuing anyway, n=10\n",
      "  \"anyway, n=%i\" % int(n))\n"
     ]
    },
    {
     "data": {
      "text/plain": [
       "<matplotlib.legend.Legend at 0x7f445bf02d30>"
      ]
     },
     "execution_count": 67,
     "metadata": {},
     "output_type": "execute_result"
    },
    {
     "data": {
      "image/png": "[encoded data removed]",
      "text/plain": [
       "<matplotlib.figure.Figure at 0x7f445c843320>"
      ]
     },
     "metadata": {},
     "output_type": "display_data"
    }
   ],
   "source": [
    "#y = y+np.cos(x/100*2*np.pi*10.0)\n",
    "x5 = np.linspace(0,100,10)\n",
    "slope5 = 1.5\n",
    "intercept5 = 101.0 * slope5\n",
    "y5 = intercept5 + slope5 * x5\n",
    "\n",
    "mrnewW = myregression(x, y, method='W')\n",
    "mrnewO = myregression(x, y, method='O')\n",
    "e = errors(x)\n",
    "\n",
    "fig = pl.figure(figsize=(10,10))\n",
    "ax = fig.add_subplot(221)\n",
    "\n",
    "\n",
    "ax.errorbar(x, y, yerr=e, fmt='.', label = \"the Error Bar\")\n",
    "ax.plot(xnew, mrnewW.predict(xnew), 'k', alpha=0.4,\n",
    "       label = \"fit to line only\")\n",
    "ax.plot(xnew, mrnewO.predict(xnew), 'k', alpha=0.7,\n",
    "       label = \"fit to line and noise\")\n",
    "\n",
    "ax.set_xlabel('independent variable')\n",
    "ax.set_ylabel('dependent variable')\n",
    "ax.legend()\n",
    "\n",
    "ax = fig.add_subplot(222)\n",
    "ax.errorbar(x, y, yerr=e, fmt='.', label = \"the Error Bar\")\n",
    "ax.plot(xnew, mrnewW.predict(xnew), 'k', alpha=0.7,      \n",
    "       label = \"fit to line and noise\")\n",
    "\n",
    "ax.plot(xnew, mrnewO.predict(x5 + e), 'r', alpha=0.5,\n",
    "       label = \"fit to noisy curve\")\n",
    "\n",
    "ax.set_xlabel('independent variable')\n",
    "ax.set_ylabel('dependent variable')\n",
    "ax.legend()\n"
   ]
  },
  {
   "cell_type": "markdown",
   "metadata": {
    "run_control": {
     "frozen": false,
     "read_only": false
    }
   },
   "source": [
    "# now fit the data with WLS weighted least square, a linear fit that takes into account the uncertainties by \"down-weighting\" (considering less important) observations with large uncertainties"
   ]
  },
  {
   "cell_type": "markdown",
   "metadata": {
    "ExecuteTime": {
     "end_time": "2018-11-08T17:02:55.249878Z",
     "start_time": "2018-11-08T17:02:55.203641Z"
    },
    "run_control": {
     "frozen": false,
     "read_only": false
    }
   },
   "source": [
    "you should at this point ask: how can I create weights from my uncertainties? The answer, as often is the case, is not unique. But a rule of thumb is that the weights would be the _inverse_ (remember: larger error must mean smaller weight) of the variance, with is the standard deviation square. Look at the error() function I create and design your weights array according to this rule"
   ]
  },
  {
   "cell_type": "code",
   "execution_count": 73,
   "metadata": {},
   "outputs": [],
   "source": [
    "x5 = np.linspace(0,100,10)\n",
    "slope5 = 1.5\n",
    "intercept5 = 101.0 * slope5\n",
    "y5 = intercept5 + slope5 * x5\n",
    "df9 = pd.DataFrame({'x5':x5, 'y5':y5})"
   ]
  },
  {
   "cell_type": "code",
   "execution_count": 74,
   "metadata": {},
   "outputs": [
    {
     "data": {
      "text/html": [
       "<div>\n",
       "<table border=\"1\" class=\"dataframe\">\n",
       "  <thead>\n",
       "    <tr style=\"text-align: right;\">\n",
       "      <th></th>\n",
       "      <th>x5</th>\n",
       "      <th>y5</th>\n",
       "    </tr>\n",
       "  </thead>\n",
       "  <tbody>\n",
       "    <tr>\n",
       "      <th>0</th>\n",
       "      <td>0.000000</td>\n",
       "      <td>151.500000</td>\n",
       "    </tr>\n",
       "    <tr>\n",
       "      <th>1</th>\n",
       "      <td>11.111111</td>\n",
       "      <td>168.166667</td>\n",
       "    </tr>\n",
       "    <tr>\n",
       "      <th>2</th>\n",
       "      <td>22.222222</td>\n",
       "      <td>184.833333</td>\n",
       "    </tr>\n",
       "    <tr>\n",
       "      <th>3</th>\n",
       "      <td>33.333333</td>\n",
       "      <td>201.500000</td>\n",
       "    </tr>\n",
       "    <tr>\n",
       "      <th>4</th>\n",
       "      <td>44.444444</td>\n",
       "      <td>218.166667</td>\n",
       "    </tr>\n",
       "    <tr>\n",
       "      <th>5</th>\n",
       "      <td>55.555556</td>\n",
       "      <td>234.833333</td>\n",
       "    </tr>\n",
       "    <tr>\n",
       "      <th>6</th>\n",
       "      <td>66.666667</td>\n",
       "      <td>251.500000</td>\n",
       "    </tr>\n",
       "    <tr>\n",
       "      <th>7</th>\n",
       "      <td>77.777778</td>\n",
       "      <td>268.166667</td>\n",
       "    </tr>\n",
       "    <tr>\n",
       "      <th>8</th>\n",
       "      <td>88.888889</td>\n",
       "      <td>284.833333</td>\n",
       "    </tr>\n",
       "    <tr>\n",
       "      <th>9</th>\n",
       "      <td>100.000000</td>\n",
       "      <td>301.500000</td>\n",
       "    </tr>\n",
       "  </tbody>\n",
       "</table>\n",
       "</div>"
      ],
      "text/plain": [
       "           x5          y5\n",
       "0    0.000000  151.500000\n",
       "1   11.111111  168.166667\n",
       "2   22.222222  184.833333\n",
       "3   33.333333  201.500000\n",
       "4   44.444444  218.166667\n",
       "5   55.555556  234.833333\n",
       "6   66.666667  251.500000\n",
       "7   77.777778  268.166667\n",
       "8   88.888889  284.833333\n",
       "9  100.000000  301.500000"
      ]
     },
     "execution_count": 74,
     "metadata": {},
     "output_type": "execute_result"
    }
   ],
   "source": [
    "df9"
   ]
  },
  {
   "cell_type": "code",
   "execution_count": 75,
   "metadata": {},
   "outputs": [
    {
     "name": "stdout",
     "output_type": "stream",
     "text": [
      "                            OLS Regression Results                            \n",
      "==============================================================================\n",
      "Dep. Variable:                     y5   R-squared:                         nan\n",
      "Model:                            OLS   Adj. R-squared:                    nan\n",
      "Method:                 Least Squares   F-statistic:                       nan\n",
      "Date:                Wed, 14 Nov 2018   Prob (F-statistic):                nan\n",
      "Time:                        15:13:12   Log-Likelihood:                 297.73\n",
      "No. Observations:                  10   AIC:                            -591.5\n",
      "Df Residuals:                       8   BIC:                            -590.8\n",
      "Df Model:                           1                                         \n",
      "Covariance Type:            nonrobust                                         \n",
      "==============================================================================\n",
      "                 coef    std err          t      P>|t|      [95.0% Conf. Int.]\n",
      "------------------------------------------------------------------------------\n",
      "Intercept    151.5000   1.87e-14   8.11e+15      0.000       151.500   151.500\n",
      "x5             1.5000   3.15e-16   4.76e+15      0.000         1.500     1.500\n",
      "==============================================================================\n",
      "Omnibus:                        2.321   Durbin-Watson:                   1.200\n",
      "Prob(Omnibus):                  0.313   Jarque-Bera (JB):                1.541\n",
      "Skew:                          -0.844   Prob(JB):                        0.463\n",
      "Kurtosis:                       2.078   Cond. No.                         110.\n",
      "==============================================================================\n",
      "\n",
      "Warnings:\n",
      "[1] Standard Errors assume that the covariance matrix of the errors is correctly specified.\n"
     ]
    },
    {
     "name": "stderr",
     "output_type": "stream",
     "text": [
      "/usr/local/Anaconda3-5.0.0-Linux-x86_64/envs/PUI2016_Python3/lib/python3.5/site-packages/scipy/stats/stats.py:1535: UserWarning: kurtosistest only valid for n>=20 ... continuing anyway, n=10\n",
      "  \"anyway, n=%i\" % int(n))\n"
     ]
    }
   ],
   "source": [
    "# wls fit\n",
    "yerr = errors(x5)\n",
    "mod7 = smf.ols(formula='y5 ~ x5', weights= 1.0 / yerr * 1.0, data = df9).fit()\n",
    "print (mod7.summary())\n",
    "# ax.errorbar(x5, y5, \n",
    "#            yerr = errors(x5), fmt = '.', c = 'k',data = df9)\n",
    "# abline_plot(model_results=mod7, ax=ax, color='blue')\n",
    "# abline_plot(model_results=mod1, ax=ax, color='red')"
   ]
  },
  {
   "cell_type": "markdown",
   "metadata": {},
   "source": [
    "# you can also use other statsmodels functions, for example statsmodels.formula.api which allows to pass an equation\n",
    "again, make sure that your formula supports an intercept"
   ]
  },
  {
   "cell_type": "code",
   "execution_count": 80,
   "metadata": {},
   "outputs": [
    {
     "name": "stderr",
     "output_type": "stream",
     "text": [
      "/usr/local/Anaconda3-5.0.0-Linux-x86_64/envs/PUI2016_Python3/lib/python3.5/site-packages/scipy/stats/stats.py:1535: UserWarning: kurtosistest only valid for n>=20 ... continuing anyway, n=10\n",
      "  \"anyway, n=%i\" % int(n))\n"
     ]
    },
    {
     "data": {
      "text/html": [
       "<table class=\"simpletable\">\n",
       "<caption>OLS Regression Results</caption>\n",
       "<tr>\n",
       "  <th>Dep. Variable:</th>            <td>y</td>        <th>  R-squared:         </th> <td>   1.000</td> \n",
       "</tr>\n",
       "<tr>\n",
       "  <th>Model:</th>                   <td>OLS</td>       <th>  Adj. R-squared:    </th> <td>   1.000</td> \n",
       "</tr>\n",
       "<tr>\n",
       "  <th>Method:</th>             <td>Least Squares</td>  <th>  F-statistic:       </th> <td>2.270e+31</td>\n",
       "</tr>\n",
       "<tr>\n",
       "  <th>Date:</th>             <td>Wed, 14 Nov 2018</td> <th>  Prob (F-statistic):</th> <td>4.22e-123</td>\n",
       "</tr>\n",
       "<tr>\n",
       "  <th>Time:</th>                 <td>15:25:37</td>     <th>  Log-Likelihood:    </th> <td>  297.73</td> \n",
       "</tr>\n",
       "<tr>\n",
       "  <th>No. Observations:</th>      <td>    10</td>      <th>  AIC:               </th> <td>  -591.5</td> \n",
       "</tr>\n",
       "<tr>\n",
       "  <th>Df Residuals:</th>          <td>     8</td>      <th>  BIC:               </th> <td>  -590.8</td> \n",
       "</tr>\n",
       "<tr>\n",
       "  <th>Df Model:</th>              <td>     1</td>      <th>                     </th>     <td> </td>    \n",
       "</tr>\n",
       "<tr>\n",
       "  <th>Covariance Type:</th>      <td>nonrobust</td>    <th>                     </th>     <td> </td>    \n",
       "</tr>\n",
       "</table>\n",
       "<table class=\"simpletable\">\n",
       "<tr>\n",
       "    <td></td>       <th>coef</th>     <th>std err</th>      <th>t</th>      <th>P>|t|</th> <th>[95.0% Conf. Int.]</th> \n",
       "</tr>\n",
       "<tr>\n",
       "  <th>const</th> <td>  151.5000</td> <td> 1.87e-14</td> <td> 8.11e+15</td> <td> 0.000</td> <td>  151.500   151.500</td>\n",
       "</tr>\n",
       "<tr>\n",
       "  <th>x1</th>    <td>    1.5000</td> <td> 3.15e-16</td> <td> 4.76e+15</td> <td> 0.000</td> <td>    1.500     1.500</td>\n",
       "</tr>\n",
       "</table>\n",
       "<table class=\"simpletable\">\n",
       "<tr>\n",
       "  <th>Omnibus:</th>       <td> 2.321</td> <th>  Durbin-Watson:     </th> <td>   1.200</td>\n",
       "</tr>\n",
       "<tr>\n",
       "  <th>Prob(Omnibus):</th> <td> 0.313</td> <th>  Jarque-Bera (JB):  </th> <td>   1.541</td>\n",
       "</tr>\n",
       "<tr>\n",
       "  <th>Skew:</th>          <td>-0.844</td> <th>  Prob(JB):          </th> <td>   0.463</td>\n",
       "</tr>\n",
       "<tr>\n",
       "  <th>Kurtosis:</th>      <td> 2.078</td> <th>  Cond. No.          </th> <td>    110.</td>\n",
       "</tr>\n",
       "</table>"
      ],
      "text/plain": [
       "<class 'statsmodels.iolib.summary.Summary'>\n",
       "\"\"\"\n",
       "                            OLS Regression Results                            \n",
       "==============================================================================\n",
       "Dep. Variable:                      y   R-squared:                       1.000\n",
       "Model:                            OLS   Adj. R-squared:                  1.000\n",
       "Method:                 Least Squares   F-statistic:                 2.270e+31\n",
       "Date:                Wed, 14 Nov 2018   Prob (F-statistic):          4.22e-123\n",
       "Time:                        15:25:37   Log-Likelihood:                 297.73\n",
       "No. Observations:                  10   AIC:                            -591.5\n",
       "Df Residuals:                       8   BIC:                            -590.8\n",
       "Df Model:                           1                                         \n",
       "Covariance Type:            nonrobust                                         \n",
       "==============================================================================\n",
       "                 coef    std err          t      P>|t|      [95.0% Conf. Int.]\n",
       "------------------------------------------------------------------------------\n",
       "const        151.5000   1.87e-14   8.11e+15      0.000       151.500   151.500\n",
       "x1             1.5000   3.15e-16   4.76e+15      0.000         1.500     1.500\n",
       "==============================================================================\n",
       "Omnibus:                        2.321   Durbin-Watson:                   1.200\n",
       "Prob(Omnibus):                  0.313   Jarque-Bera (JB):                1.541\n",
       "Skew:                          -0.844   Prob(JB):                        0.463\n",
       "Kurtosis:                       2.078   Cond. No.                         110.\n",
       "==============================================================================\n",
       "\n",
       "Warnings:\n",
       "[1] Standard Errors assume that the covariance matrix of the errors is correctly specified.\n",
       "\"\"\""
      ]
     },
     "execution_count": 80,
     "metadata": {},
     "output_type": "execute_result"
    }
   ],
   "source": [
    "smfitDoneRight = sm.OLS(y5, sm.add_constant(x5)).fit()\n",
    "smfitDoneRight.summary()"
   ]
  },
  {
   "cell_type": "code",
   "execution_count": 81,
   "metadata": {},
   "outputs": [],
   "source": [
    "# smfmodel = smf.ols('y5 ~ x5 + const', data={'x':x5, 'y':y5, 'const':np.ones(len(x5))}).fit()\n",
    "# pl.errorbar(x5, y5, yerr=errors(x5), fmt='.')\n",
    "# pl.plot(x5, mod7, '-', label=\"sm.OLS\")\n",
    "# pl.plot(x5, smfitOLS6, '-', label=\"smf.ols\")\n",
    "# pl.xlabel(\"exogenous\")\n",
    "# pl.ylabel(\"endogenous\")\n",
    "# pl.legend();"
   ]
  },
  {
   "cell_type": "code",
   "execution_count": 82,
   "metadata": {
    "ExecuteTime": {
     "end_time": "2018-11-08T17:43:22.172119Z",
     "start_time": "2018-11-08T17:43:21.914280Z"
    }
   },
   "outputs": [
    {
     "data": {
      "image/png": "[encoded data removed]",
      "text/plain": [
       "<matplotlib.figure.Figure at 0x7f445bc9b4a8>"
      ]
     },
     "metadata": {},
     "output_type": "display_data"
    }
   ],
   "source": [
    "# statsmodels.formula.api accepts dictionaris, pandas dataframes, and python rec arrays as input: \n",
    "# all data types that host data paired with labels\n",
    "smfmodel = smf.ols('y ~ x + const', data={'x':x, 'y':y, 'const':np.ones(len(x))}).fit()\n",
    "pl.errorbar(x, y, yerr=errors(x), fmt='.')\n",
    "pl.plot(x, smfitDoneRight.fittedvalues, '-', label=\"sm.OLS\")\n",
    "pl.plot(x, smfmodel.fittedvalues, '-', label=\"smf.ols\")\n",
    "pl.xlabel(\"exogenous\")\n",
    "pl.ylabel(\"endogenous\")\n",
    "pl.legend();"
   ]
  },
  {
   "cell_type": "code",
   "execution_count": null,
   "metadata": {},
   "outputs": [],
   "source": []
  }
 ],
 "metadata": {
  "kernelspec": {
   "display_name": "PUI2016_Python3",
   "language": "python",
   "name": "pui2016_python3"
  },
  "language_info": {
   "codemirror_mode": {
    "name": "ipython",
    "version": 3
   },
   "file_extension": ".py",
   "mimetype": "text/x-python",
   "name": "python",
   "nbconvert_exporter": "python",
   "pygments_lexer": "ipython3",
   "version": "3.5.4"
  },
  "toc": {
   "colors": {
    "hover_highlight": "#DAA520",
    "running_highlight": "#FF0000",
    "selected_highlight": "#FFD700"
   },
   "moveMenuLeft": true,
   "nav_menu": {
    "height": "12px",
    "width": "252px"
   },
   "navigate_menu": true,
   "number_sections": true,
   "sideBar": true,
   "threshold": 4,
   "toc_cell": false,
   "toc_section_display": "block",
   "toc_window_display": false
  }
 },
 "nbformat": 4,
 "nbformat_minor": 2
}
